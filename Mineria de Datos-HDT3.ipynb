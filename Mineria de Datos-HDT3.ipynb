{
 "cells": [
  {
   "cell_type": "markdown",
   "id": "85d93fc7",
   "metadata": {},
   "source": [
    "Universidad del Valle de Guatemala <br>\n",
    "04/03/2022 <br>\n",
    "Minería de Datos # 20 \n",
    "\n",
    "# Hoja de Trabajo 3\n",
    "## Árboles de Decisión\n",
    "\n",
    "**Integrantes:**<br>\n",
    "Walter Saldaña 19897 <br>\n",
    "José Gutierrez 19111 <br>\n",
    "Javier Cotto 19324 <br>"
   ]
  },
  {
   "cell_type": "code",
   "execution_count": null,
   "id": "c7e4eaa7",
   "metadata": {},
   "outputs": [],
   "source": []
  }
 ],
 "metadata": {
  "kernelspec": {
   "display_name": "Python 3 (ipykernel)",
   "language": "python",
   "name": "python3"
  },
  "language_info": {
   "codemirror_mode": {
    "name": "ipython",
    "version": 3
   },
   "file_extension": ".py",
   "mimetype": "text/x-python",
   "name": "python",
   "nbconvert_exporter": "python",
   "pygments_lexer": "ipython3",
   "version": "3.9.7"
  }
 },
 "nbformat": 4,
 "nbformat_minor": 5
}
